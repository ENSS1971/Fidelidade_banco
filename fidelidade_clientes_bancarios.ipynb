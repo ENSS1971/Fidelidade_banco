{
 "cells": [
  {
   "cell_type": "markdown",
   "id": "8ecc6ca5-fc36-43f1-ada1-d11589e41dee",
   "metadata": {},
   "source": [
    "Previsão de rotatividade de clientes bancários"
   ]
  },
  {
   "cell_type": "code",
   "execution_count": 5,
   "id": "0ca8ce53-ac36-4bfa-a247-8803789c5d45",
   "metadata": {},
   "outputs": [],
   "source": [
    "#Importando os pacotes necessáriosl\n",
    "\n",
    "import kaggle as kg\n",
    "import pandas as pd\n",
    "import numpy as np\n",
    "import os\n",
    "\n",
    "import requests\n",
    "import zipfile\n",
    "import warnings\n",
    "\n",
    "warnings.filterwarnings('ignore')"
   ]
  },
  {
   "cell_type": "code",
   "execution_count": 6,
   "id": "c9783ce6-4b3c-4fe2-b91e-cabb62c421a8",
   "metadata": {},
   "outputs": [],
   "source": [
    "#Autenticação no portal Kaggle\n",
    "kg.api.authenticate()"
   ]
  },
  {
   "cell_type": "code",
   "execution_count": 7,
   "id": "2fbfca7b-2df2-4450-8823-47c683812816",
   "metadata": {},
   "outputs": [
    {
     "name": "stdout",
     "output_type": "stream",
     "text": [
      "Dataset URL: https://www.kaggle.com/datasets/saurabhbadole/bank-customer-churn-prediction-dataset\n"
     ]
    }
   ],
   "source": [
    "kg.api.dataset_download_files('saurabhbadole/bank-customer-churn-prediction-dataset',\n",
    "                             path = r'C:\\Users\\eduardo.sepulveda\\.kaggle',\n",
    "                             unzip = True)"
   ]
  },
  {
   "cell_type": "code",
   "execution_count": 8,
   "id": "709814ee-2223-4e0a-9140-6e56fd42ee2b",
   "metadata": {},
   "outputs": [
    {
     "data": {
      "text/plain": [
       "['Churn_Modelling.csv',\n",
       " 'Credit card transactions - India - Simple.csv',\n",
       " 'creditcard.csv',\n",
       " 'kaggle.json']"
      ]
     },
     "execution_count": 8,
     "metadata": {},
     "output_type": "execute_result"
    }
   ],
   "source": [
    "#Verificando os arquivos na pasta .\\kaggle\n",
    "os.listdir(r'C:\\Users\\eduardo.sepulveda\\.kaggle')"
   ]
  },
  {
   "cell_type": "code",
   "execution_count": 11,
   "id": "f93089df-2759-4029-8e22-29ec3cadc7f7",
   "metadata": {},
   "outputs": [
    {
     "data": {
      "text/html": [
       "<div>\n",
       "<style scoped>\n",
       "    .dataframe tbody tr th:only-of-type {\n",
       "        vertical-align: middle;\n",
       "    }\n",
       "\n",
       "    .dataframe tbody tr th {\n",
       "        vertical-align: top;\n",
       "    }\n",
       "\n",
       "    .dataframe thead th {\n",
       "        text-align: right;\n",
       "    }\n",
       "</style>\n",
       "<table border=\"1\" class=\"dataframe\">\n",
       "  <thead>\n",
       "    <tr style=\"text-align: right;\">\n",
       "      <th></th>\n",
       "      <th>RowNumber</th>\n",
       "      <th>CustomerId</th>\n",
       "      <th>Surname</th>\n",
       "      <th>CreditScore</th>\n",
       "      <th>Geography</th>\n",
       "      <th>Gender</th>\n",
       "      <th>Age</th>\n",
       "      <th>Tenure</th>\n",
       "      <th>Balance</th>\n",
       "      <th>NumOfProducts</th>\n",
       "      <th>HasCrCard</th>\n",
       "      <th>IsActiveMember</th>\n",
       "      <th>EstimatedSalary</th>\n",
       "      <th>Exited</th>\n",
       "    </tr>\n",
       "  </thead>\n",
       "  <tbody>\n",
       "    <tr>\n",
       "      <th>0</th>\n",
       "      <td>1</td>\n",
       "      <td>15634602</td>\n",
       "      <td>Hargrave</td>\n",
       "      <td>619</td>\n",
       "      <td>France</td>\n",
       "      <td>Female</td>\n",
       "      <td>42</td>\n",
       "      <td>2</td>\n",
       "      <td>0.00</td>\n",
       "      <td>1</td>\n",
       "      <td>1</td>\n",
       "      <td>1</td>\n",
       "      <td>101348.88</td>\n",
       "      <td>1</td>\n",
       "    </tr>\n",
       "    <tr>\n",
       "      <th>1</th>\n",
       "      <td>2</td>\n",
       "      <td>15647311</td>\n",
       "      <td>Hill</td>\n",
       "      <td>608</td>\n",
       "      <td>Spain</td>\n",
       "      <td>Female</td>\n",
       "      <td>41</td>\n",
       "      <td>1</td>\n",
       "      <td>83807.86</td>\n",
       "      <td>1</td>\n",
       "      <td>0</td>\n",
       "      <td>1</td>\n",
       "      <td>112542.58</td>\n",
       "      <td>0</td>\n",
       "    </tr>\n",
       "    <tr>\n",
       "      <th>2</th>\n",
       "      <td>3</td>\n",
       "      <td>15619304</td>\n",
       "      <td>Onio</td>\n",
       "      <td>502</td>\n",
       "      <td>France</td>\n",
       "      <td>Female</td>\n",
       "      <td>42</td>\n",
       "      <td>8</td>\n",
       "      <td>159660.80</td>\n",
       "      <td>3</td>\n",
       "      <td>1</td>\n",
       "      <td>0</td>\n",
       "      <td>113931.57</td>\n",
       "      <td>1</td>\n",
       "    </tr>\n",
       "    <tr>\n",
       "      <th>3</th>\n",
       "      <td>4</td>\n",
       "      <td>15701354</td>\n",
       "      <td>Boni</td>\n",
       "      <td>699</td>\n",
       "      <td>France</td>\n",
       "      <td>Female</td>\n",
       "      <td>39</td>\n",
       "      <td>1</td>\n",
       "      <td>0.00</td>\n",
       "      <td>2</td>\n",
       "      <td>0</td>\n",
       "      <td>0</td>\n",
       "      <td>93826.63</td>\n",
       "      <td>0</td>\n",
       "    </tr>\n",
       "    <tr>\n",
       "      <th>4</th>\n",
       "      <td>5</td>\n",
       "      <td>15737888</td>\n",
       "      <td>Mitchell</td>\n",
       "      <td>850</td>\n",
       "      <td>Spain</td>\n",
       "      <td>Female</td>\n",
       "      <td>43</td>\n",
       "      <td>2</td>\n",
       "      <td>125510.82</td>\n",
       "      <td>1</td>\n",
       "      <td>1</td>\n",
       "      <td>1</td>\n",
       "      <td>79084.10</td>\n",
       "      <td>0</td>\n",
       "    </tr>\n",
       "  </tbody>\n",
       "</table>\n",
       "</div>"
      ],
      "text/plain": [
       "   RowNumber  CustomerId   Surname  CreditScore Geography  Gender  Age  \\\n",
       "0          1    15634602  Hargrave          619    France  Female   42   \n",
       "1          2    15647311      Hill          608     Spain  Female   41   \n",
       "2          3    15619304      Onio          502    France  Female   42   \n",
       "3          4    15701354      Boni          699    France  Female   39   \n",
       "4          5    15737888  Mitchell          850     Spain  Female   43   \n",
       "\n",
       "   Tenure    Balance  NumOfProducts  HasCrCard  IsActiveMember  \\\n",
       "0       2       0.00              1          1               1   \n",
       "1       1   83807.86              1          0               1   \n",
       "2       8  159660.80              3          1               0   \n",
       "3       1       0.00              2          0               0   \n",
       "4       2  125510.82              1          1               1   \n",
       "\n",
       "   EstimatedSalary  Exited  \n",
       "0        101348.88       1  \n",
       "1        112542.58       0  \n",
       "2        113931.57       1  \n",
       "3         93826.63       0  \n",
       "4         79084.10       0  "
      ]
     },
     "execution_count": 11,
     "metadata": {},
     "output_type": "execute_result"
    }
   ],
   "source": [
    "#Carregando a base de dados\n",
    "df = pd.read_csv(r'C:\\Users\\eduardo.sepulveda\\.kaggle\\Churn_Modelling.csv')\n",
    "df.head()"
   ]
  },
  {
   "cell_type": "markdown",
   "id": "9ba46eeb-e568-44bc-975a-928bd4808863",
   "metadata": {},
   "source": [
    "__Features:__\n",
    "\n",
    "RowNumber: The sequential number assigned to each row in the dataset.\r",
    "\r\n",
    "CustomerId: A unique identifier for each customer\r\n",
    "\r\n",
    "Surname: The surname of the customr.\r\n",
    "\r\n",
    "CreditScore: The credit score of the custmer.\r\n",
    "\r\n",
    "Geography: The geographical location of the customer (e.g., country or rgion).\r\n",
    "\r\n",
    "Gender: The gender of the ustomer.\r\n",
    "\r\n",
    "Age: The age of th customer.\r\n",
    "\r\n",
    "Tenure: The number of years the customer has been wth the bank.\r\n",
    "\r\n",
    "Balance: The account balance o the customer.\r\n",
    "\r\n",
    "NumOfProducts: The number of bank products he customer has.\r\n",
    "\r\n",
    "HasCrCard: Indicates whether the customer has a credit car (binary: yes/no).\r\n",
    "\r\n",
    "IsActiveMember: Indicates whether the customer is an active memer (binary: yes/no).\r\n",
    "\r\n",
    "EstimatedSalary: The estimated alary of the customer.\r\n",
    "\r\n",
    "Exited: Indicates whether the customer has exited based on the given features."
   ]
  },
  {
   "cell_type": "code",
   "execution_count": 12,
   "id": "7b0bb161-7022-494a-86f9-a40478d90ae5",
   "metadata": {},
   "outputs": [],
   "source": [
    "#Eliminando as colunas que não são necessárias para o modelo\n",
    "df = df.drop(columns=['RowNumber', 'CustomerId', 'Surname'])"
   ]
  },
  {
   "cell_type": "code",
   "execution_count": 13,
   "id": "4d29a601-7746-4879-abe3-f9eb87bc8fdc",
   "metadata": {},
   "outputs": [
    {
     "data": {
      "text/html": [
       "<div>\n",
       "<style scoped>\n",
       "    .dataframe tbody tr th:only-of-type {\n",
       "        vertical-align: middle;\n",
       "    }\n",
       "\n",
       "    .dataframe tbody tr th {\n",
       "        vertical-align: top;\n",
       "    }\n",
       "\n",
       "    .dataframe thead th {\n",
       "        text-align: right;\n",
       "    }\n",
       "</style>\n",
       "<table border=\"1\" class=\"dataframe\">\n",
       "  <thead>\n",
       "    <tr style=\"text-align: right;\">\n",
       "      <th></th>\n",
       "      <th>CreditScore</th>\n",
       "      <th>Geography</th>\n",
       "      <th>Gender</th>\n",
       "      <th>Age</th>\n",
       "      <th>Tenure</th>\n",
       "      <th>Balance</th>\n",
       "      <th>NumOfProducts</th>\n",
       "      <th>HasCrCard</th>\n",
       "      <th>IsActiveMember</th>\n",
       "      <th>EstimatedSalary</th>\n",
       "      <th>Exited</th>\n",
       "    </tr>\n",
       "  </thead>\n",
       "  <tbody>\n",
       "    <tr>\n",
       "      <th>0</th>\n",
       "      <td>-0.326221</td>\n",
       "      <td>0</td>\n",
       "      <td>0</td>\n",
       "      <td>0.293517</td>\n",
       "      <td>-1.041760</td>\n",
       "      <td>-1.225848</td>\n",
       "      <td>-0.911583</td>\n",
       "      <td>1</td>\n",
       "      <td>1</td>\n",
       "      <td>0.021886</td>\n",
       "      <td>1</td>\n",
       "    </tr>\n",
       "    <tr>\n",
       "      <th>1</th>\n",
       "      <td>-0.440036</td>\n",
       "      <td>2</td>\n",
       "      <td>0</td>\n",
       "      <td>0.198164</td>\n",
       "      <td>-1.387538</td>\n",
       "      <td>0.117350</td>\n",
       "      <td>-0.911583</td>\n",
       "      <td>0</td>\n",
       "      <td>1</td>\n",
       "      <td>0.216534</td>\n",
       "      <td>0</td>\n",
       "    </tr>\n",
       "    <tr>\n",
       "      <th>2</th>\n",
       "      <td>-1.536794</td>\n",
       "      <td>0</td>\n",
       "      <td>0</td>\n",
       "      <td>0.293517</td>\n",
       "      <td>1.032908</td>\n",
       "      <td>1.333053</td>\n",
       "      <td>2.527057</td>\n",
       "      <td>1</td>\n",
       "      <td>0</td>\n",
       "      <td>0.240687</td>\n",
       "      <td>1</td>\n",
       "    </tr>\n",
       "    <tr>\n",
       "      <th>3</th>\n",
       "      <td>0.501521</td>\n",
       "      <td>0</td>\n",
       "      <td>0</td>\n",
       "      <td>0.007457</td>\n",
       "      <td>-1.387538</td>\n",
       "      <td>-1.225848</td>\n",
       "      <td>0.807737</td>\n",
       "      <td>0</td>\n",
       "      <td>0</td>\n",
       "      <td>-0.108918</td>\n",
       "      <td>0</td>\n",
       "    </tr>\n",
       "    <tr>\n",
       "      <th>4</th>\n",
       "      <td>2.063884</td>\n",
       "      <td>2</td>\n",
       "      <td>0</td>\n",
       "      <td>0.388871</td>\n",
       "      <td>-1.041760</td>\n",
       "      <td>0.785728</td>\n",
       "      <td>-0.911583</td>\n",
       "      <td>1</td>\n",
       "      <td>1</td>\n",
       "      <td>-0.365276</td>\n",
       "      <td>0</td>\n",
       "    </tr>\n",
       "  </tbody>\n",
       "</table>\n",
       "</div>"
      ],
      "text/plain": [
       "   CreditScore  Geography  Gender       Age    Tenure   Balance  \\\n",
       "0    -0.326221          0       0  0.293517 -1.041760 -1.225848   \n",
       "1    -0.440036          2       0  0.198164 -1.387538  0.117350   \n",
       "2    -1.536794          0       0  0.293517  1.032908  1.333053   \n",
       "3     0.501521          0       0  0.007457 -1.387538 -1.225848   \n",
       "4     2.063884          2       0  0.388871 -1.041760  0.785728   \n",
       "\n",
       "   NumOfProducts  HasCrCard  IsActiveMember  EstimatedSalary  Exited  \n",
       "0      -0.911583          1               1         0.021886       1  \n",
       "1      -0.911583          0               1         0.216534       0  \n",
       "2       2.527057          1               0         0.240687       1  \n",
       "3       0.807737          0               0        -0.108918       0  \n",
       "4      -0.911583          1               1        -0.365276       0  "
      ]
     },
     "execution_count": 13,
     "metadata": {},
     "output_type": "execute_result"
    }
   ],
   "source": [
    "from sklearn.preprocessing import LabelEncoder, StandardScaler\n",
    "\n",
    "#Converta dados categóricos em dados numéricos\n",
    "le = LabelEncoder()\n",
    "df['Geography'] = le.fit_transform(df['Geography'])\n",
    "df['Gender'] = le.fit_transform(df['Gender'])\n",
    "\n",
    "#Dimensionando os dados numéricos\n",
    "scaler = StandardScaler()\n",
    "df[['CreditScore', 'Age', 'Tenure', 'Balance', 'NumOfProducts', 'EstimatedSalary']] = scaler.fit_transform(df[['CreditScore', 'Age', 'Tenure', 'Balance', 'NumOfProducts', 'EstimatedSalary']])\n",
    "\n",
    "df.head()"
   ]
  },
  {
   "cell_type": "code",
   "execution_count": 18,
   "id": "74ce7e6e-fd92-48da-a75c-78760f287137",
   "metadata": {},
   "outputs": [
    {
     "data": {
      "text/html": [
       "<div>\n",
       "<style scoped>\n",
       "    .dataframe tbody tr th:only-of-type {\n",
       "        vertical-align: middle;\n",
       "    }\n",
       "\n",
       "    .dataframe tbody tr th {\n",
       "        vertical-align: top;\n",
       "    }\n",
       "\n",
       "    .dataframe thead th {\n",
       "        text-align: right;\n",
       "    }\n",
       "</style>\n",
       "<table border=\"1\" class=\"dataframe\">\n",
       "  <thead>\n",
       "    <tr style=\"text-align: right;\">\n",
       "      <th></th>\n",
       "      <th>CreditScore</th>\n",
       "      <th>Geography</th>\n",
       "      <th>Gender</th>\n",
       "      <th>Age</th>\n",
       "      <th>Tenure</th>\n",
       "      <th>Balance</th>\n",
       "      <th>NumOfProducts</th>\n",
       "      <th>HasCrCard</th>\n",
       "      <th>IsActiveMember</th>\n",
       "      <th>EstimatedSalary</th>\n",
       "      <th>Exited</th>\n",
       "    </tr>\n",
       "  </thead>\n",
       "  <tbody>\n",
       "    <tr>\n",
       "      <th>count</th>\n",
       "      <td>1.000000e+04</td>\n",
       "      <td>10000.000000</td>\n",
       "      <td>10000.000000</td>\n",
       "      <td>1.000000e+04</td>\n",
       "      <td>1.000000e+04</td>\n",
       "      <td>1.000000e+04</td>\n",
       "      <td>1.000000e+04</td>\n",
       "      <td>10000.00000</td>\n",
       "      <td>10000.000000</td>\n",
       "      <td>1.000000e+04</td>\n",
       "      <td>10000.000000</td>\n",
       "    </tr>\n",
       "    <tr>\n",
       "      <th>mean</th>\n",
       "      <td>-4.824585e-16</td>\n",
       "      <td>0.746300</td>\n",
       "      <td>0.545700</td>\n",
       "      <td>2.318146e-16</td>\n",
       "      <td>-1.078249e-16</td>\n",
       "      <td>-6.252776e-17</td>\n",
       "      <td>1.634248e-17</td>\n",
       "      <td>0.70550</td>\n",
       "      <td>0.515100</td>\n",
       "      <td>-2.877698e-17</td>\n",
       "      <td>0.203700</td>\n",
       "    </tr>\n",
       "    <tr>\n",
       "      <th>std</th>\n",
       "      <td>1.000050e+00</td>\n",
       "      <td>0.827529</td>\n",
       "      <td>0.497932</td>\n",
       "      <td>1.000050e+00</td>\n",
       "      <td>1.000050e+00</td>\n",
       "      <td>1.000050e+00</td>\n",
       "      <td>1.000050e+00</td>\n",
       "      <td>0.45584</td>\n",
       "      <td>0.499797</td>\n",
       "      <td>1.000050e+00</td>\n",
       "      <td>0.402769</td>\n",
       "    </tr>\n",
       "    <tr>\n",
       "      <th>min</th>\n",
       "      <td>-3.109504e+00</td>\n",
       "      <td>0.000000</td>\n",
       "      <td>0.000000</td>\n",
       "      <td>-1.994969e+00</td>\n",
       "      <td>-1.733315e+00</td>\n",
       "      <td>-1.225848e+00</td>\n",
       "      <td>-9.115835e-01</td>\n",
       "      <td>0.00000</td>\n",
       "      <td>0.000000</td>\n",
       "      <td>-1.740268e+00</td>\n",
       "      <td>0.000000</td>\n",
       "    </tr>\n",
       "    <tr>\n",
       "      <th>25%</th>\n",
       "      <td>-6.883586e-01</td>\n",
       "      <td>0.000000</td>\n",
       "      <td>0.000000</td>\n",
       "      <td>-6.600185e-01</td>\n",
       "      <td>-6.959818e-01</td>\n",
       "      <td>-1.225848e+00</td>\n",
       "      <td>-9.115835e-01</td>\n",
       "      <td>0.00000</td>\n",
       "      <td>0.000000</td>\n",
       "      <td>-8.535935e-01</td>\n",
       "      <td>0.000000</td>\n",
       "    </tr>\n",
       "    <tr>\n",
       "      <th>50%</th>\n",
       "      <td>1.522218e-02</td>\n",
       "      <td>0.000000</td>\n",
       "      <td>1.000000</td>\n",
       "      <td>-1.832505e-01</td>\n",
       "      <td>-4.425957e-03</td>\n",
       "      <td>3.319639e-01</td>\n",
       "      <td>-9.115835e-01</td>\n",
       "      <td>1.00000</td>\n",
       "      <td>1.000000</td>\n",
       "      <td>1.802807e-03</td>\n",
       "      <td>0.000000</td>\n",
       "    </tr>\n",
       "    <tr>\n",
       "      <th>75%</th>\n",
       "      <td>6.981094e-01</td>\n",
       "      <td>1.000000</td>\n",
       "      <td>1.000000</td>\n",
       "      <td>4.842246e-01</td>\n",
       "      <td>6.871299e-01</td>\n",
       "      <td>8.199205e-01</td>\n",
       "      <td>8.077366e-01</td>\n",
       "      <td>1.00000</td>\n",
       "      <td>1.000000</td>\n",
       "      <td>8.572431e-01</td>\n",
       "      <td>0.000000</td>\n",
       "    </tr>\n",
       "    <tr>\n",
       "      <th>max</th>\n",
       "      <td>2.063884e+00</td>\n",
       "      <td>2.000000</td>\n",
       "      <td>1.000000</td>\n",
       "      <td>5.061197e+00</td>\n",
       "      <td>1.724464e+00</td>\n",
       "      <td>2.795323e+00</td>\n",
       "      <td>4.246377e+00</td>\n",
       "      <td>1.00000</td>\n",
       "      <td>1.000000</td>\n",
       "      <td>1.737200e+00</td>\n",
       "      <td>1.000000</td>\n",
       "    </tr>\n",
       "  </tbody>\n",
       "</table>\n",
       "</div>"
      ],
      "text/plain": [
       "        CreditScore     Geography        Gender           Age        Tenure  \\\n",
       "count  1.000000e+04  10000.000000  10000.000000  1.000000e+04  1.000000e+04   \n",
       "mean  -4.824585e-16      0.746300      0.545700  2.318146e-16 -1.078249e-16   \n",
       "std    1.000050e+00      0.827529      0.497932  1.000050e+00  1.000050e+00   \n",
       "min   -3.109504e+00      0.000000      0.000000 -1.994969e+00 -1.733315e+00   \n",
       "25%   -6.883586e-01      0.000000      0.000000 -6.600185e-01 -6.959818e-01   \n",
       "50%    1.522218e-02      0.000000      1.000000 -1.832505e-01 -4.425957e-03   \n",
       "75%    6.981094e-01      1.000000      1.000000  4.842246e-01  6.871299e-01   \n",
       "max    2.063884e+00      2.000000      1.000000  5.061197e+00  1.724464e+00   \n",
       "\n",
       "            Balance  NumOfProducts    HasCrCard  IsActiveMember  \\\n",
       "count  1.000000e+04   1.000000e+04  10000.00000    10000.000000   \n",
       "mean  -6.252776e-17   1.634248e-17      0.70550        0.515100   \n",
       "std    1.000050e+00   1.000050e+00      0.45584        0.499797   \n",
       "min   -1.225848e+00  -9.115835e-01      0.00000        0.000000   \n",
       "25%   -1.225848e+00  -9.115835e-01      0.00000        0.000000   \n",
       "50%    3.319639e-01  -9.115835e-01      1.00000        1.000000   \n",
       "75%    8.199205e-01   8.077366e-01      1.00000        1.000000   \n",
       "max    2.795323e+00   4.246377e+00      1.00000        1.000000   \n",
       "\n",
       "       EstimatedSalary        Exited  \n",
       "count     1.000000e+04  10000.000000  \n",
       "mean     -2.877698e-17      0.203700  \n",
       "std       1.000050e+00      0.402769  \n",
       "min      -1.740268e+00      0.000000  \n",
       "25%      -8.535935e-01      0.000000  \n",
       "50%       1.802807e-03      0.000000  \n",
       "75%       8.572431e-01      0.000000  \n",
       "max       1.737200e+00      1.000000  "
      ]
     },
     "execution_count": 18,
     "metadata": {},
     "output_type": "execute_result"
    }
   ],
   "source": [
    "# Summary statistics\n",
    "df.describe()"
   ]
  },
  {
   "cell_type": "code",
   "execution_count": 36,
   "id": "4b4662fb-bef3-4073-99ab-d83e056e2449",
   "metadata": {},
   "outputs": [
    {
     "data": {
      "text/plain": [
       "(array([0, 1], dtype=int64), array([7963, 2037], dtype=int64))"
      ]
     },
     "execution_count": 36,
     "metadata": {},
     "output_type": "execute_result"
    }
   ],
   "source": [
    "#Contagem da quantidade de registros que temos em cada uma das classes\n",
    "np.unique(df['Exited'], return_counts = True)"
   ]
  },
  {
   "cell_type": "code",
   "execution_count": 38,
   "id": "b0cd11b1-b552-4656-b33d-5cd1cdeeb9c3",
   "metadata": {},
   "outputs": [
    {
     "data": {
      "text/plain": [
       "0    79.63\n",
       "1    20.37\n",
       "Name: Exited, dtype: float64"
      ]
     },
     "execution_count": 38,
     "metadata": {},
     "output_type": "execute_result"
    }
   ],
   "source": [
    "#Porcentagem da quantidade de registros que temos em cada uma das classes\n",
    "round(df['Exited'].value_counts(normalize=True)*100,2)"
   ]
  },
  {
   "cell_type": "code",
   "execution_count": 35,
   "id": "81a5ae0f-2e4b-4564-ab5c-4ff777ad9162",
   "metadata": {},
   "outputs": [
    {
     "data": {
      "image/png": "[encoded data removed]",
      "text/plain": [
       "<Figure size 640x480 with 1 Axes>"
      ]
     },
     "metadata": {},
     "output_type": "display_data"
    }
   ],
   "source": [
    "#Representação gráfica das classes\n",
    "import seaborn as sns\n",
    "\n",
    "sns.countplot(x = df[\"Exited\"]);"
   ]
  },
  {
   "cell_type": "code",
   "execution_count": 25,
   "id": "1fb33064-ca97-4d53-8703-2272bcbdcdba",
   "metadata": {},
   "outputs": [
    {
     "name": "stdout",
     "output_type": "stream",
     "text": [
      "                 CreditScore  Geography    Gender       Age    Tenure  \\\n",
      "CreditScore         1.000000   0.007888 -0.002857 -0.003965  0.000842   \n",
      "Geography           0.007888   1.000000  0.004719  0.022812  0.003739   \n",
      "Gender             -0.002857   0.004719  1.000000 -0.027544  0.014733   \n",
      "Age                -0.003965   0.022812 -0.027544  1.000000 -0.009997   \n",
      "Tenure              0.000842   0.003739  0.014733 -0.009997  1.000000   \n",
      "Balance             0.006268   0.069408  0.012087  0.028308 -0.012254   \n",
      "NumOfProducts       0.012238   0.003972 -0.021859 -0.030680  0.013444   \n",
      "HasCrCard          -0.005458  -0.008523  0.005766 -0.011721  0.022583   \n",
      "IsActiveMember      0.025651   0.006724  0.022544  0.085472 -0.028362   \n",
      "EstimatedSalary    -0.001384  -0.001369 -0.008112 -0.007201  0.007784   \n",
      "Exited             -0.027094   0.035943 -0.106512  0.285323 -0.014001   \n",
      "\n",
      "                  Balance  NumOfProducts  HasCrCard  IsActiveMember  \\\n",
      "CreditScore      0.006268       0.012238  -0.005458        0.025651   \n",
      "Geography        0.069408       0.003972  -0.008523        0.006724   \n",
      "Gender           0.012087      -0.021859   0.005766        0.022544   \n",
      "Age              0.028308      -0.030680  -0.011721        0.085472   \n",
      "Tenure          -0.012254       0.013444   0.022583       -0.028362   \n",
      "Balance          1.000000      -0.304180  -0.014858       -0.010084   \n",
      "NumOfProducts   -0.304180       1.000000   0.003183        0.009612   \n",
      "HasCrCard       -0.014858       0.003183   1.000000       -0.011866   \n",
      "IsActiveMember  -0.010084       0.009612  -0.011866        1.000000   \n",
      "EstimatedSalary  0.012797       0.014204  -0.009933       -0.011421   \n",
      "Exited           0.118533      -0.047820  -0.007138       -0.156128   \n",
      "\n",
      "                 EstimatedSalary    Exited  \n",
      "CreditScore            -0.001384 -0.027094  \n",
      "Geography              -0.001369  0.035943  \n",
      "Gender                 -0.008112 -0.106512  \n",
      "Age                    -0.007201  0.285323  \n",
      "Tenure                  0.007784 -0.014001  \n",
      "Balance                 0.012797  0.118533  \n",
      "NumOfProducts           0.014204 -0.047820  \n",
      "HasCrCard              -0.009933 -0.007138  \n",
      "IsActiveMember         -0.011421 -0.156128  \n",
      "EstimatedSalary         1.000000  0.012097  \n",
      "Exited                  0.012097  1.000000  \n",
      "\n"
     ]
    },
    {
     "data": {
      "image/png": "[encoded data removed]",
      "text/plain": [
       "<Figure size 800x600 with 2 Axes>"
      ]
     },
     "metadata": {},
     "output_type": "display_data"
    }
   ],
   "source": [
    "import matplotlib.pyplot as plt\n",
    "import seaborn as sns\n",
    "\n",
    "#Matriz de correlação\n",
    "correlation_matrix = df.corr()\n",
    "print(correlation_matrix)\n",
    "print()\n",
    "\n",
    "#Mapa de calor para correlação\n",
    "plt.figure(figsize=(8, 6))\n",
    "sns.heatmap(correlation_matrix, annot=True, cmap=\"coolwarm\", fmt=\".2f\")\n",
    "plt.title(\"Matriz de correlação\")\n",
    "\n",
    "plt.show()"
   ]
  },
  {
   "cell_type": "code",
   "execution_count": 28,
   "id": "feaa1c92-080d-45a2-b665-9b20474ea373",
   "metadata": {},
   "outputs": [
    {
     "name": "stdout",
     "output_type": "stream",
     "text": [
      "<class 'pandas.core.frame.DataFrame'>\n",
      "RangeIndex: 10000 entries, 0 to 9999\n",
      "Data columns (total 11 columns):\n",
      " #   Column           Non-Null Count  Dtype  \n",
      "---  ------           --------------  -----  \n",
      " 0   CreditScore      10000 non-null  float64\n",
      " 1   Geography        10000 non-null  int32  \n",
      " 2   Gender           10000 non-null  int32  \n",
      " 3   Age              10000 non-null  float64\n",
      " 4   Tenure           10000 non-null  float64\n",
      " 5   Balance          10000 non-null  float64\n",
      " 6   NumOfProducts    10000 non-null  float64\n",
      " 7   HasCrCard        10000 non-null  int64  \n",
      " 8   IsActiveMember   10000 non-null  int64  \n",
      " 9   EstimatedSalary  10000 non-null  float64\n",
      " 10  Exited           10000 non-null  int64  \n",
      "dtypes: float64(6), int32(2), int64(3)\n",
      "memory usage: 781.4 KB\n"
     ]
    }
   ],
   "source": [
    "#Imprime informações sobre um DataFrame, incluindo o tipo de índice e colunas, valores não nulos e uso de memória.\n",
    "df.info()"
   ]
  },
  {
   "cell_type": "code",
   "execution_count": 30,
   "id": "1e182f7a-7925-47d0-91c3-6b5fc13b3291",
   "metadata": {},
   "outputs": [
    {
     "data": {
      "text/html": [
       "<div>\n",
       "<style scoped>\n",
       "    .dataframe tbody tr th:only-of-type {\n",
       "        vertical-align: middle;\n",
       "    }\n",
       "\n",
       "    .dataframe tbody tr th {\n",
       "        vertical-align: top;\n",
       "    }\n",
       "\n",
       "    .dataframe thead th {\n",
       "        text-align: right;\n",
       "    }\n",
       "</style>\n",
       "<table border=\"1\" class=\"dataframe\">\n",
       "  <thead>\n",
       "    <tr style=\"text-align: right;\">\n",
       "      <th></th>\n",
       "      <th>CreditScore</th>\n",
       "      <th>Geography</th>\n",
       "      <th>Gender</th>\n",
       "      <th>Age</th>\n",
       "      <th>Tenure</th>\n",
       "      <th>Balance</th>\n",
       "      <th>NumOfProducts</th>\n",
       "      <th>HasCrCard</th>\n",
       "      <th>IsActiveMember</th>\n",
       "      <th>EstimatedSalary</th>\n",
       "    </tr>\n",
       "  </thead>\n",
       "  <tbody>\n",
       "    <tr>\n",
       "      <th>0</th>\n",
       "      <td>-0.326221</td>\n",
       "      <td>0</td>\n",
       "      <td>0</td>\n",
       "      <td>0.293517</td>\n",
       "      <td>-1.041760</td>\n",
       "      <td>-1.225848</td>\n",
       "      <td>-0.911583</td>\n",
       "      <td>1</td>\n",
       "      <td>1</td>\n",
       "      <td>0.021886</td>\n",
       "    </tr>\n",
       "    <tr>\n",
       "      <th>1</th>\n",
       "      <td>-0.440036</td>\n",
       "      <td>2</td>\n",
       "      <td>0</td>\n",
       "      <td>0.198164</td>\n",
       "      <td>-1.387538</td>\n",
       "      <td>0.117350</td>\n",
       "      <td>-0.911583</td>\n",
       "      <td>0</td>\n",
       "      <td>1</td>\n",
       "      <td>0.216534</td>\n",
       "    </tr>\n",
       "    <tr>\n",
       "      <th>2</th>\n",
       "      <td>-1.536794</td>\n",
       "      <td>0</td>\n",
       "      <td>0</td>\n",
       "      <td>0.293517</td>\n",
       "      <td>1.032908</td>\n",
       "      <td>1.333053</td>\n",
       "      <td>2.527057</td>\n",
       "      <td>1</td>\n",
       "      <td>0</td>\n",
       "      <td>0.240687</td>\n",
       "    </tr>\n",
       "    <tr>\n",
       "      <th>3</th>\n",
       "      <td>0.501521</td>\n",
       "      <td>0</td>\n",
       "      <td>0</td>\n",
       "      <td>0.007457</td>\n",
       "      <td>-1.387538</td>\n",
       "      <td>-1.225848</td>\n",
       "      <td>0.807737</td>\n",
       "      <td>0</td>\n",
       "      <td>0</td>\n",
       "      <td>-0.108918</td>\n",
       "    </tr>\n",
       "    <tr>\n",
       "      <th>4</th>\n",
       "      <td>2.063884</td>\n",
       "      <td>2</td>\n",
       "      <td>0</td>\n",
       "      <td>0.388871</td>\n",
       "      <td>-1.041760</td>\n",
       "      <td>0.785728</td>\n",
       "      <td>-0.911583</td>\n",
       "      <td>1</td>\n",
       "      <td>1</td>\n",
       "      <td>-0.365276</td>\n",
       "    </tr>\n",
       "  </tbody>\n",
       "</table>\n",
       "</div>"
      ],
      "text/plain": [
       "   CreditScore  Geography  Gender       Age    Tenure   Balance  \\\n",
       "0    -0.326221          0       0  0.293517 -1.041760 -1.225848   \n",
       "1    -0.440036          2       0  0.198164 -1.387538  0.117350   \n",
       "2    -1.536794          0       0  0.293517  1.032908  1.333053   \n",
       "3     0.501521          0       0  0.007457 -1.387538 -1.225848   \n",
       "4     2.063884          2       0  0.388871 -1.041760  0.785728   \n",
       "\n",
       "   NumOfProducts  HasCrCard  IsActiveMember  EstimatedSalary  \n",
       "0      -0.911583          1               1         0.021886  \n",
       "1      -0.911583          0               1         0.216534  \n",
       "2       2.527057          1               0         0.240687  \n",
       "3       0.807737          0               0        -0.108918  \n",
       "4      -0.911583          1               1        -0.365276  "
      ]
     },
     "execution_count": 30,
     "metadata": {},
     "output_type": "execute_result"
    }
   ],
   "source": [
    "#Divisão entre previsores e classes\n",
    "X_data = df.iloc[:, 0:10]\n",
    "X_data.head()"
   ]
  },
  {
   "cell_type": "code",
   "execution_count": 31,
   "id": "2a64114f-6186-4fdc-9a17-82c24bff7a1b",
   "metadata": {},
   "outputs": [
    {
     "data": {
      "text/plain": [
       "0    1\n",
       "1    0\n",
       "2    1\n",
       "3    0\n",
       "4    0\n",
       "Name: Exited, dtype: int64"
      ]
     },
     "execution_count": 31,
     "metadata": {},
     "output_type": "execute_result"
    }
   ],
   "source": [
    "y_data = df.iloc[:,10]\n",
    "y_data.head()"
   ]
  },
  {
   "cell_type": "code",
   "execution_count": 32,
   "id": "7f3989e2-8f20-452b-8ce7-00c8b87abe9c",
   "metadata": {},
   "outputs": [],
   "source": [
    "from sklearn.model_selection import train_test_split\n",
    "\n",
    "#Separando a base de dados utilizando a técnica hold-out\n",
    "X_train,X_test,y_train,y_test=train_test_split(X_data, y_data,test_size=0.2,random_state=42)"
   ]
  },
  {
   "cell_type": "code",
   "execution_count": 33,
   "id": "f6bc7652-9c87-44eb-a064-69887013226b",
   "metadata": {},
   "outputs": [
    {
     "name": "stdout",
     "output_type": "stream",
     "text": [
      "(8000, 10) (2000, 10)\n"
     ]
    }
   ],
   "source": [
    "#Visualizando a divisão da base de dados\n",
    "print(X_train.shape, X_test.shape)"
   ]
  },
  {
   "cell_type": "code",
   "execution_count": 46,
   "id": "cc1127bb-1317-447e-a34e-c8133e718778",
   "metadata": {},
   "outputs": [
    {
     "name": "stdout",
     "output_type": "stream",
     "text": [
      "              precision    recall  f1-score   support\n",
      "\n",
      "           0       0.80      1.00      0.89      1607\n",
      "           1       0.00      0.00      0.00       393\n",
      "\n",
      "    accuracy                           0.80      2000\n",
      "   macro avg       0.40      0.50      0.45      2000\n",
      "weighted avg       0.65      0.80      0.72      2000\n",
      "\n"
     ]
    }
   ],
   "source": [
    "from sklearn.linear_model import SGDClassifier\n",
    "\n",
    "sgdc = SGDClassifier()\n",
    "\n",
    "#Treinando o modelo\n",
    "sgdc.fit(X_train, y_train)\n",
    "\n",
    "# Fazendo previsões\n",
    "pred_sgdc = sgdc.predict(X_test)\n",
    "\n",
    "from sklearn.metrics import classification_report, accuracy_score\n",
    "print(classification_report(y_test, pred_sgdc))"
   ]
  },
  {
   "cell_type": "code",
   "execution_count": 50,
   "id": "4563bdd6-35bb-402a-94cd-c56740bf7793",
   "metadata": {},
   "outputs": [
    {
     "name": "stdout",
     "output_type": "stream",
     "text": [
      "              precision    recall  f1-score   support\n",
      "\n",
      "           0       0.84      0.97      0.90      1607\n",
      "           1       0.68      0.24      0.35       393\n",
      "\n",
      "    accuracy                           0.83      2000\n",
      "   macro avg       0.76      0.61      0.63      2000\n",
      "weighted avg       0.81      0.83      0.79      2000\n",
      "\n"
     ]
    }
   ],
   "source": [
    "from sklearn.naive_bayes import GaussianNB\n",
    "\n",
    "gnb = GaussianNB()\n",
    "\n",
    "# Treinando o modelo\n",
    "gnb.fit(X_train, y_train)\n",
    "\n",
    "# Fazendo previsões\n",
    "pred_gnb = gnb.predict(X_test)\n",
    "\n",
    "# Calculando a acurácia do modelo\n",
    "print(classification_report(y_test, pred_gnb))"
   ]
  },
  {
   "cell_type": "code",
   "execution_count": 51,
   "id": "f9862c28-0c2e-4336-b488-2ba393c1bfc5",
   "metadata": {},
   "outputs": [
    {
     "name": "stdout",
     "output_type": "stream",
     "text": [
      "              precision    recall  f1-score   support\n",
      "\n",
      "           0       0.88      0.96      0.92      1607\n",
      "           1       0.75      0.47      0.58       393\n",
      "\n",
      "    accuracy                           0.87      2000\n",
      "   macro avg       0.82      0.72      0.75      2000\n",
      "weighted avg       0.86      0.87      0.85      2000\n",
      "\n"
     ]
    }
   ],
   "source": [
    "from sklearn.ensemble import GradientBoostingClassifier\n",
    "\n",
    "gbc = GradientBoostingClassifier()\n",
    "\n",
    "# Treinando o modelo\n",
    "gbc.fit(X_train, y_train)\n",
    "\n",
    "# Fazendo previsões\n",
    "pred_gbc = gbc.predict(X_test)\n",
    "\n",
    "# Calculando a acurácia do modelo\n",
    "print(classification_report(y_test, pred_gbc))"
   ]
  },
  {
   "cell_type": "code",
   "execution_count": 52,
   "id": "536a3dd8-dda0-477d-94d3-fb0ed6662d1a",
   "metadata": {},
   "outputs": [
    {
     "name": "stdout",
     "output_type": "stream",
     "text": [
      "              precision    recall  f1-score   support\n",
      "\n",
      "           0       0.86      0.98      0.92      1607\n",
      "           1       0.80      0.37      0.50       393\n",
      "\n",
      "    accuracy                           0.86      2000\n",
      "   macro avg       0.83      0.67      0.71      2000\n",
      "weighted avg       0.85      0.86      0.84      2000\n",
      "\n"
     ]
    }
   ],
   "source": [
    "from sklearn.svm import SVC\n",
    "\n",
    "svc = SVC()\n",
    "\n",
    "# Treinando o modelo\n",
    "svc.fit(X_train, y_train)\n",
    "\n",
    "# Fazendo previsões\n",
    "pred_svc = svc.predict(X_test)\n",
    "\n",
    "# Calculando a acurácia do modelo\n",
    "print(classification_report(y_test, pred_svc))"
   ]
  },
  {
   "cell_type": "code",
   "execution_count": 53,
   "id": "eddf54b1-4ca2-4ce3-b5c8-fb1796a1ad44",
   "metadata": {},
   "outputs": [
    {
     "name": "stdout",
     "output_type": "stream",
     "text": [
      "              precision    recall  f1-score   support\n",
      "\n",
      "           0       0.86      0.98      0.92      1607\n",
      "           1       0.80      0.37      0.50       393\n",
      "\n",
      "    accuracy                           0.86      2000\n",
      "   macro avg       0.83      0.67      0.71      2000\n",
      "weighted avg       0.85      0.86      0.84      2000\n",
      "\n"
     ]
    }
   ],
   "source": [
    "from sklearn.neighbors import KNeighborsClassifier\n",
    "\n",
    "knc = KNeighborsClassifier()\n",
    "\n",
    "# Treinando o modelo\n",
    "knc.fit(X_train, y_train)\n",
    "\n",
    "# Fazendo previsões\n",
    "pred_knc = svc.predict(X_test)\n",
    "\n",
    "# Calculando a acurácia do modelo\n",
    "print(classification_report(y_test, pred_knc))"
   ]
  },
  {
   "cell_type": "markdown",
   "id": "e7227146-12da-4838-a964-2c6c4c864f02",
   "metadata": {},
   "source": [
    ">> O modelo Gradient Boosting Classifier teve o melhor desempenho com uma precisão de 87%. Isto sugere que este modelo foi capaz de generalizar bem a partir dos dados de treinamento e prever com precisão os resultados nos dados de teste.\n",
    "\r",
    ">> \n",
    "Os modelos Support Vector Classifier e K-Nearest Neighbours também apresentaram altas pontuações de precisão de860%, respectivamente, indicando que eles também foram eficazes em suas previsões\n",
    "\n",
    ">> \r\n",
    "O modelo dSGDClassifierca teve uma precisão decente d8055%, mas foi superado pelos outros modelos, exceto pelGaussianNBão.\r\n",
    "O modeGaussianNBsão teve a menor precisão 80,30%, sugerindo que pode não ter sido tão eficaz em suas previsões em comparação aos demais modelos."
   ]
  },
  {
   "cell_type": "markdown",
   "id": "bddfc3b3-78a7-4b60-be53-cac8b76a0bbb",
   "metadata": {},
   "source": [
    "Verificando o O modelo Gradient Boosting Classifier"
   ]
  },
  {
   "cell_type": "code",
   "execution_count": 57,
   "id": "58f9a45c-7335-4785-8ae3-4fa18e6b0ae4",
   "metadata": {},
   "outputs": [
    {
     "data": {
      "text/plain": [
       "array([[1547,   60],\n",
       "       [ 209,  184]], dtype=int64)"
      ]
     },
     "execution_count": 57,
     "metadata": {},
     "output_type": "execute_result"
    }
   ],
   "source": [
    "from sklearn.metrics import confusion_matrix\n",
    "\n",
    "# Matriz de confusão\n",
    "cf_matrix = confusion_matrix(y_test, pred_gbc)\n",
    "cf_matrix"
   ]
  },
  {
   "cell_type": "code",
   "execution_count": 58,
   "id": "813a5165-ccb3-43ae-87aa-ba32bfce2021",
   "metadata": {},
   "outputs": [
    {
     "data": {
      "image/png": "[encoded data removed]",
      "text/plain": [
       "<Figure size 500x500 with 2 Axes>"
      ]
     },
     "metadata": {},
     "output_type": "display_data"
    }
   ],
   "source": [
    "import matplotlib.pyplot as plt\n",
    "\n",
    "fig, (ax1) = plt.subplots(ncols=1, figsize=(5,5))\n",
    "sns.heatmap(cf_matrix, \n",
    "            xticklabels=['Não Aprovado', 'Aprovado'],\n",
    "            yticklabels=['Não Aprovado', 'Aprovado'],\n",
    "            fmt='d',\n",
    "            annot=True,\n",
    "            ax = ax1,\n",
    "            linewidths=.2,\n",
    "            linecolor=\"Darkblue\",\n",
    "            cmap=\"Blues\")\n",
    "\n",
    "plt.title('Matriz Confusão', fontsize=14)\n",
    "plt.show()"
   ]
  },
  {
   "cell_type": "code",
   "execution_count": 59,
   "id": "9b5311ea-98f3-482a-9306-1e5cb0ac591f",
   "metadata": {},
   "outputs": [
    {
     "name": "stdout",
     "output_type": "stream",
     "text": [
      "Arquivo gravado com Sucesso\n"
     ]
    }
   ],
   "source": [
    "#Salvando o modelo Gradient Boosting Classifier para as previsões\n",
    "import joblib\n",
    "joblib.dump(sgdc, \"pred_gbc.pkl\")\n",
    "print(\"Arquivo gravado com Sucesso\")"
   ]
  },
  {
   "cell_type": "code",
   "execution_count": null,
   "id": "cdc1357e-0675-45a4-a89b-2f8cf6edd4b3",
   "metadata": {},
   "outputs": [],
   "source": []
  }
 ],
 "metadata": {
  "kernelspec": {
   "display_name": "Python 3 (ipykernel)",
   "language": "python",
   "name": "python3"
  },
  "language_info": {
   "codemirror_mode": {
    "name": "ipython",
    "version": 3
   },
   "file_extension": ".py",
   "mimetype": "text/x-python",
   "name": "python",
   "nbconvert_exporter": "python",
   "pygments_lexer": "ipython3",
   "version": "3.9.18"
  }
 },
 "nbformat": 4,
 "nbformat_minor": 5
}
